{
 "cells": [
  {
   "cell_type": "markdown",
   "id": "91df78eb-ae60-41b0-8d61-dfd842b15746",
   "metadata": {},
   "source": [
    "## Summary\n",
    "\n",
    "This project has been an eye-opening experience, introducing me to the fundamentals of neural networks. The steep learning curve of building a neural network from scratch—without relying on pre-built machine learning libraries—has been immensely rewarding. Through this journey, I gained a deep understanding of matrix multiplication, harnessed the dynamic capabilities of NumPy, and learned the value of persistence when facing continuous errors. I explored various activation functions and implemented gradient descent for optimizing the model. This process has significantly enriched my knowledge and problem-solving skills in neural networks.\n",
    "\n",
    "Sivagugan Jayachandran"
   ]
  },
  {
   "cell_type": "code",
   "execution_count": 504,
   "id": "9b1833fe-1554-4591-a705-39452f35d2b8",
   "metadata": {},
   "outputs": [],
   "source": [
    "import matplotlib.pyplot as plt\n",
    "import numpy as np\n",
    "import os"
   ]
  },
  {
   "cell_type": "code",
   "execution_count": 505,
   "id": "9b78f3ec-c372-4316-86c5-055ccf63b916",
   "metadata": {},
   "outputs": [],
   "source": [
    "path = '/Users/sivaguganjayachandran/Documents/python programming/Neural-Network---MultiClass-Classifcation-with-Softmax-main'"
   ]
  },
  {
   "cell_type": "code",
   "execution_count": 506,
   "id": "6f0f3f13-65e1-4150-9776-cfe8642510d4",
   "metadata": {},
   "outputs": [
    {
     "name": "stdout",
     "output_type": "stream",
     "text": [
      " \n",
      "X_train : (784, 1000)\n",
      "Y_train : (10, 1000) \n",
      " \n",
      "X_test  : (784, 350)\n",
      "Y_test  : (10, 350) \n",
      "\n"
     ]
    }
   ],
   "source": [
    "X_train = np.genfromtxt(path+ '/train_X.csv', delimiter=',').T\n",
    "Y_train = np.genfromtxt(path+ '/train_label.csv', delimiter = ',').T\n",
    "\n",
    "X_test  = np.genfromtxt(path + '/test_X.csv', delimiter=',').T\n",
    "Y_test  = np.genfromtxt(path + '/test_label.csv', delimiter = ',').T \n",
    "\n",
    "\n",
    "print(f''' \n",
    "X_train : {X_train.shape}\n",
    "Y_train : {Y_train.shape} \\n \n",
    "X_test  : {X_test.shape}\n",
    "Y_test  : {Y_test.shape} \n",
    "''')"
   ]
  },
  {
   "cell_type": "code",
   "execution_count": 507,
   "id": "6cedb590-ce40-490c-b84f-fbdd2d159ed1",
   "metadata": {},
   "outputs": [
    {
     "name": "stdout",
     "output_type": "stream",
     "text": [
      " Image : 5\n"
     ]
    },
    {
     "data": {
      "image/png": "[encoded data removed]",
      "text/plain": [
       "<Figure size 640x480 with 1 Axes>"
      ]
     },
     "metadata": {},
     "output_type": "display_data"
    }
   ],
   "source": [
    "index = np.random.randint(0,1000, size = (1,1))\n",
    "\n",
    "plt.imshow(X_train[:,index].reshape(28,28), cmap='grey')\n",
    "\n",
    "print(f' Image : {np.argmax(Y_train[:,index]) }')"
   ]
  },
  {
   "cell_type": "code",
   "execution_count": 508,
   "id": "305dcba9-c46f-420e-8f1e-47a48d5ae383",
   "metadata": {},
   "outputs": [],
   "source": [
    "# Matrix Multiplications \n",
    "\n",
    "def tanh(x):\n",
    "    return np.tanh(x)\n",
    "\n",
    "def relu(x):\n",
    "    return np.where(x>0,x,0)\n",
    "\n",
    "def derivative_tanh(x):\n",
    "    return (1 - np.power(np.tanh(x), 2))\n",
    "\n",
    "def derivative_relu(x):\n",
    "    return np.array(x > 0, dtype = np.float32)\n",
    "\n",
    "def softmax(y):\n",
    "    x = np.exp(y)\n",
    "    return x / np.sum(x, axis=0, keepdims = True)"
   ]
  },
  {
   "cell_type": "code",
   "execution_count": 509,
   "id": "c20a39a8-fd60-4113-aa85-7ac94c8a9e22",
   "metadata": {},
   "outputs": [],
   "source": [
    "def initialize_parameters(x, y, n_h):\n",
    "    m = x.shape[1]\n",
    "    n_x = x.shape[0]\n",
    "    n_y = y.shape[0]\n",
    "        \n",
    "    w1 = np.random.randn(n_h,n_x)*0.01\n",
    "    b1 = np.random.randn(n_h,1)\n",
    "    \n",
    "    w2 = np.random.randn(n_y,n_h)*0.01\n",
    "    b2 = np.random.randn(n_y,1)\n",
    "\n",
    "    parameters = {\n",
    "        'x'  : x,\n",
    "        'y'  : y,\n",
    "        'm'  : m,\n",
    "        'w1' : w1,\n",
    "        'b1' : b1,\n",
    "        'w2' : w2,\n",
    "        'b2' : b2,\n",
    "        'cost' : []\n",
    "    }\n",
    "\n",
    "    return parameters"
   ]
  },
  {
   "cell_type": "code",
   "execution_count": null,
   "id": "6e1c9b57-957e-4841-8dbb-4abd8e998595",
   "metadata": {},
   "outputs": [],
   "source": []
  },
  {
   "cell_type": "code",
   "execution_count": 510,
   "id": "3450bb2c-7abf-435a-87ba-12d2aae13c60",
   "metadata": {},
   "outputs": [],
   "source": [
    "def forward_propagation(parameters, activation = 'tanh'):\n",
    "    w1 = parameters['w1']\n",
    "    b1 = parameters['b1']\n",
    "    \n",
    "    w2 = parameters['w2']\n",
    "    b2 = parameters['b2']\n",
    "    \n",
    "    a0 = parameters['x']\n",
    "    z1 = np.dot(w1,a0) + b1\n",
    "\n",
    "    if activation.lower() == 'tanh':\n",
    "        a1 = tanh(z1)\n",
    "    elif activation.lower() == 'relu':\n",
    "        a1 = relu(z1)\n",
    "    #a1 = np.where(z1>0,z1,0)\n",
    "    \n",
    "    z2 = np.dot(w2,a1) + b2\n",
    "    \n",
    "    \n",
    "    #z2 = z2/np.max(z2,axis=0)\n",
    "    #z2_exp = np.exp(z2 - np.max(z2,axis=0, keepdims= True))\n",
    "    \n",
    "    a2 = softmax(z2)\n",
    "    \n",
    "    parameters.update({\n",
    "        'z1' : z1,\n",
    "        'z2' : z2,\n",
    "        'a1' : a1,\n",
    "        'a2' : a2\n",
    "    })\n",
    "    \n",
    "    return parameters"
   ]
  },
  {
   "cell_type": "code",
   "execution_count": 511,
   "id": "61a4d27b-7994-45bf-af7f-70672c2350a7",
   "metadata": {},
   "outputs": [],
   "source": [
    "def cost_function(parameters):\n",
    "    y  = parameters['y']\n",
    "    a2 = parameters['a2']\n",
    "    m  = parameters['m']\n",
    "    loss = np.sum(y * -np.log(a2))/m\n",
    "\n",
    "    parameters['cost'].append(loss)\n",
    "    \n",
    "    return parameters"
   ]
  },
  {
   "cell_type": "code",
   "execution_count": 512,
   "id": "389bfc8b-3166-4e21-9c0f-9bcf606dbc19",
   "metadata": {},
   "outputs": [],
   "source": [
    "def gradient_descent(parameters, activation = 'tanh', input = 'a'):\n",
    "    a2 = parameters['a2']\n",
    "    y  = parameters['y']\n",
    "    a1 = parameters['a1']\n",
    "    m  = parameters['m']\n",
    "    w2 = parameters['w2']\n",
    "    z1 = parameters['z1']\n",
    "    a0 = parameters['x']\n",
    "\n",
    "    \n",
    "    dz2 = a2 - y\n",
    "    dw2 =   (1/m) * np.dot(dz2, a1.T)\n",
    "    db2 = ( (1/m) * np.sum(dz2, axis = 1, keepdims = True) )\n",
    "    \n",
    "    #dz1 = np.dot(w2.T,dz2) * derivative_tanh(z1)\n",
    "    dz1 = np.dot(w2.T,dz2) * derivative_tanh(a1)\n",
    "\n",
    "    if activation == 'tanh' and input == 'a':\n",
    "        dz1 = np.dot(w2.T,dz2) * derivative_tanh(a1)\n",
    "    if activation == 'tanh' and input == 'z':\n",
    "        dz1 = np.dot(w2.T,dz2) * derivative_tanh(z1)\n",
    "    if activation == 'relu' and input == 'a':\n",
    "        dz1 = np.dot(w2.T,dz2) * derivative_relu(a1)\n",
    "    if activation == 'relu' and input == 'z':\n",
    "        dz1 = np.dot(w2.T,dz2) * derivative_relu(z1)\n",
    "    \n",
    "    dw1 = (1/m) * np.dot(dz1,a0.T)\n",
    "    db1 = ( (1/m) * np.sum(dz1,axis = 1, keepdims = True) )\n",
    "\n",
    "    parameters.update({\n",
    "        'dz1' : dz1,\n",
    "        'dw1' : dw1,\n",
    "        'db1' : db1,\n",
    "        'dz2' : dz2,\n",
    "        'dw2' : dw2,\n",
    "        'db2' : db2\n",
    "    })\n",
    "    \n",
    "    return parameters"
   ]
  },
  {
   "cell_type": "code",
   "execution_count": 513,
   "id": "7ec4efc0-63dd-4794-a7c6-716d5b9dadbd",
   "metadata": {},
   "outputs": [],
   "source": [
    "def update_parameters(parameters, learning_rate):\n",
    "    \n",
    "    w1 = parameters['w1']\n",
    "    w2 = parameters['w2']\n",
    "    b1 = parameters['b1']\n",
    "    b2 = parameters['b2']\n",
    "    \n",
    "    dw1 = parameters['dw1']\n",
    "    dw2 = parameters['dw2']\n",
    "    db1 = parameters['db1']\n",
    "    db2 = parameters['db2']\n",
    "    \n",
    "    w2 = w2 - learning_rate * dw2\n",
    "    b2 = b2 - learning_rate * db2\n",
    "    \n",
    "    w1 = w1 - learning_rate * dw1\n",
    "    b1 = b1 - learning_rate * db1\n",
    "\n",
    "    parameters.update({\n",
    "        'w1' : w1,\n",
    "        'w2' : w2,\n",
    "        'b1' : b1,\n",
    "        'b2' : b2\n",
    "    })\n",
    "\n",
    "    return parameters"
   ]
  },
  {
   "cell_type": "code",
   "execution_count": 514,
   "id": "4ed87b7d-9681-4b4e-910e-551f5a0cbe99",
   "metadata": {},
   "outputs": [],
   "source": [
    "def accuracy(parameters):\n",
    "    y = parameters['y']\n",
    "    y_hat = parameters['a2']\n",
    "    accuracy =  np.mean( np.argmax(y, axis = 0) == np.argmax(y_hat, axis=0) )\n",
    "    parameters.update({'accuracy' : round(accuracy,4)})\n",
    "    return parameters"
   ]
  },
  {
   "cell_type": "code",
   "execution_count": 532,
   "id": "e458c301-a7bd-47aa-b245-f56f364e3f08",
   "metadata": {},
   "outputs": [],
   "source": [
    "def neural_network( x, y, n_h, iterations = 100, learning_rate = 0.02, activation = 'tanh', input='a'):\n",
    "    parameters    = {}\n",
    "    parameters    = initialize_parameters(x,y,n_h)\n",
    "    \n",
    "    for i in range(iterations):\n",
    "        parameters    = forward_propagation(parameters, activation = activation)\n",
    "        parameters    = cost_function(parameters)\n",
    "        parameters    = gradient_descent(parameters, activation = activation, input = input)\n",
    "        parameters    = update_parameters(parameters, learning_rate = learning_rate)\n",
    "        #print(f' {i} : {round(parameters_1['cost'][-1],15)} ')\n",
    "    parameters = accuracy(parameters)\n",
    "    return parameters"
   ]
  },
  {
   "cell_type": "code",
   "execution_count": 533,
   "id": "bd9395cc-e086-4420-a862-063ab6fcf9c0",
   "metadata": {},
   "outputs": [
    {
     "name": "stdout",
     "output_type": "stream",
     "text": [
      " Cost function : 0.13035 \n",
      " Accuracy : 99.1% \n"
     ]
    },
    {
     "data": {
      "image/png": "[encoded data removed]",
      "text/plain": [
       "<Figure size 640x480 with 1 Axes>"
      ]
     },
     "metadata": {},
     "output_type": "display_data"
    }
   ],
   "source": [
    "parameters_train = neural_network(X_train, Y_train, n_h = 1000, iterations = 100, learning_rate = 0.01, activation = 'tanh', input = 'a')\n",
    "\n",
    "plt.plot(parameters_train['cost'][0:])\n",
    "print(f' Cost function : {round(parameters_train['cost'][-1],5)} ')\n",
    "print(f' Accuracy : {parameters_train['accuracy'] * 100}% ')"
   ]
  },
  {
   "cell_type": "code",
   "execution_count": 535,
   "id": "81b5fea6-7a26-47be-b7e0-6bed321230e5",
   "metadata": {},
   "outputs": [
    {
     "name": "stdout",
     "output_type": "stream",
     "text": [
      " Cost function : 0.44747 \n",
      " Accuracy : 86.29% \n"
     ]
    }
   ],
   "source": [
    "# calculate the output for test data \n",
    "parameters_test = parameters_train.copy() #use copy() method to create two objects so that they are independant of each other\n",
    "\n",
    "parameters_test.update({\n",
    "    'x' : X_test,\n",
    "    'y' : Y_test,\n",
    "    'm' : Y_test.shape[1],\n",
    "    'cost' : [],\n",
    "    'accuracy' : False\n",
    "})\n",
    "\n",
    "parameters_test = forward_propagation(parameters_test, activation = 'tanh')\n",
    "parameters_test = cost_function(parameters_test)\n",
    "parameters_test = accuracy(parameters_test)\n",
    "print(f' Cost function : {round(parameters_test['cost'][-1],5)} ')\n",
    "print(f' Accuracy : {parameters_test['accuracy'] * 100}% ')"
   ]
  },
  {
   "cell_type": "code",
   "execution_count": null,
   "id": "e67257d3-dac9-4e1a-9331-7f87864371b3",
   "metadata": {},
   "outputs": [],
   "source": []
  },
  {
   "cell_type": "code",
   "execution_count": null,
   "id": "ebc881ad-2d4c-495e-8652-3e31d2d11102",
   "metadata": {},
   "outputs": [],
   "source": []
  },
  {
   "cell_type": "code",
   "execution_count": 540,
   "id": "74cf519e-83d2-4daf-9a25-f16aea8b0539",
   "metadata": {},
   "outputs": [],
   "source": [
    "dict = { \n",
    "    'Dataset' : ['train','test'],\n",
    "    'Cost_function' :[round(parameters_train['cost'][-1],2), round(parameters_test['cost'][-1],2) ],\n",
    "    'Accuracy ( % )' : [parameters_train['accuracy']*100, parameters_test['accuracy']*100 ]\n",
    "} "
   ]
  },
  {
   "cell_type": "code",
   "execution_count": 541,
   "id": "592c600c-69c0-4a77-a2e1-952cc4e167ea",
   "metadata": {},
   "outputs": [],
   "source": [
    "import pandas as pd\n",
    "df = pd.DataFrame(dict)\n",
    "df.set_index('Dataset',inplace = True)"
   ]
  },
  {
   "cell_type": "code",
   "execution_count": 542,
   "id": "4d2dbc4e-6f8e-496c-89f8-12544fcaf5eb",
   "metadata": {},
   "outputs": [
    {
     "data": {
      "text/html": [
       "<div>\n",
       "<style scoped>\n",
       "    .dataframe tbody tr th:only-of-type {\n",
       "        vertical-align: middle;\n",
       "    }\n",
       "\n",
       "    .dataframe tbody tr th {\n",
       "        vertical-align: top;\n",
       "    }\n",
       "\n",
       "    .dataframe thead th {\n",
       "        text-align: right;\n",
       "    }\n",
       "</style>\n",
       "<table border=\"1\" class=\"dataframe\">\n",
       "  <thead>\n",
       "    <tr style=\"text-align: right;\">\n",
       "      <th></th>\n",
       "      <th>Cost_function</th>\n",
       "      <th>Accuracy ( % )</th>\n",
       "    </tr>\n",
       "    <tr>\n",
       "      <th>Dataset</th>\n",
       "      <th></th>\n",
       "      <th></th>\n",
       "    </tr>\n",
       "  </thead>\n",
       "  <tbody>\n",
       "    <tr>\n",
       "      <th>train</th>\n",
       "      <td>0.13</td>\n",
       "      <td>99.10</td>\n",
       "    </tr>\n",
       "    <tr>\n",
       "      <th>test</th>\n",
       "      <td>0.45</td>\n",
       "      <td>86.29</td>\n",
       "    </tr>\n",
       "    <tr>\n",
       "      <th>delta ( test - train )</th>\n",
       "      <td>0.32</td>\n",
       "      <td>-12.81</td>\n",
       "    </tr>\n",
       "  </tbody>\n",
       "</table>\n",
       "</div>"
      ],
      "text/plain": [
       "                        Cost_function  Accuracy ( % )\n",
       "Dataset                                              \n",
       "train                            0.13           99.10\n",
       "test                             0.45           86.29\n",
       "delta ( test - train )           0.32          -12.81"
      ]
     },
     "execution_count": 542,
     "metadata": {},
     "output_type": "execute_result"
    }
   ],
   "source": [
    "df.loc['delta ( test - train )'] = df.loc['test'] - df.loc['train']\n",
    "df"
   ]
  },
  {
   "cell_type": "code",
   "execution_count": 543,
   "id": "90520d80-5b4c-4a8a-a683-300bb0bfe945",
   "metadata": {},
   "outputs": [
    {
     "name": "stdout",
     "output_type": "stream",
     "text": [
      " Actual Number    : 3 \n",
      " Predicted Number : 3 \n"
     ]
    },
    {
     "data": {
      "image/png": "[encoded data removed]",
      "text/plain": [
       "<Figure size 640x480 with 1 Axes>"
      ]
     },
     "metadata": {},
     "output_type": "display_data"
    }
   ],
   "source": [
    "index = np.random.randint(0,Y_test.shape[1])\n",
    "\n",
    "plt.imshow(X_test[:,index].reshape(28,28))\n",
    "\n",
    "print(f' Actual Number    : {np.argmax(Y_test[:,index])} ')\n",
    "\n",
    "print(f' Predicted Number : { np.argmax(parameters_test['a2'][:,index]) } ')\n"
   ]
  }
 ],
 "metadata": {
  "kernelspec": {
   "display_name": "Python 3 (ipykernel)",
   "language": "python",
   "name": "python3"
  },
  "language_info": {
   "codemirror_mode": {
    "name": "ipython",
    "version": 3
   },
   "file_extension": ".py",
   "mimetype": "text/x-python",
   "name": "python",
   "nbconvert_exporter": "python",
   "pygments_lexer": "ipython3",
   "version": "3.12.4"
  }
 },
 "nbformat": 4,
 "nbformat_minor": 5
}
